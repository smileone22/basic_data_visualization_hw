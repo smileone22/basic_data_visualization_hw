{
 "cells": [
  {
   "cell_type": "markdown",
   "id": "chronic-lease",
   "metadata": {},
   "source": [
    "# 0217 Class Notes"
   ]
  },
  {
   "cell_type": "markdown",
   "id": "unnecessary-program",
   "metadata": {},
   "source": [
    "## Generators"
   ]
  },
  {
   "cell_type": "code",
   "execution_count": 6,
   "id": "essential-copying",
   "metadata": {},
   "outputs": [],
   "source": [
    "s = '1,4,2\\n5\\n8,7,9'"
   ]
  },
  {
   "cell_type": "code",
   "execution_count": 7,
   "id": "micro-soundtrack",
   "metadata": {},
   "outputs": [
    {
     "name": "stdout",
     "output_type": "stream",
     "text": [
      "1\n",
      "5\n",
      "8\n"
     ]
    }
   ],
   "source": [
    "for line in s.split('\\n'):\n",
    "    print(int(line.split(',')[0]))"
   ]
  },
  {
   "cell_type": "code",
   "execution_count": 13,
   "id": "retired-notification",
   "metadata": {},
   "outputs": [],
   "source": [
    "\n",
    "# generators : pausible function. \n",
    "# All generators are iterators but not all iterators are generators\n",
    "\n",
    "def parse_rows(s):\n",
    "    \"\"\"takes string and breaks up into lines\n",
    "    parses lines as if text was csv\"\"\"\n",
    "    for line in s.split('\\n'):\n",
    "        print('in parse_rows', line)\n",
    "        parsed_row = line.split(',')\n",
    "        print(int(line.split(',')[0]))\n",
    "        yield parsed_row\n",
    "\n",
    "def extract_first(rows):\n",
    "    \"\"\"gives back first element in each row\"\"\"\n",
    "    for row in rows:\n",
    "        print('in extract_first',row)\n",
    "        yield row[0]"
   ]
  },
  {
   "cell_type": "code",
   "execution_count": 23,
   "id": "funded-eagle",
   "metadata": {},
   "outputs": [],
   "source": [
    "g= parse_rows(s) # object that implements next"
   ]
  },
  {
   "cell_type": "code",
   "execution_count": 20,
   "id": "smoking-alloy",
   "metadata": {},
   "outputs": [
    {
     "name": "stdout",
     "output_type": "stream",
     "text": [
      "in parse_rows 1,4,2\n",
      "1\n"
     ]
    },
    {
     "data": {
      "text/plain": [
       "['1', '4', '2']"
      ]
     },
     "execution_count": 20,
     "metadata": {},
     "output_type": "execute_result"
    }
   ],
   "source": [
    "next(g)"
   ]
  },
  {
   "cell_type": "code",
   "execution_count": 21,
   "id": "brilliant-christmas",
   "metadata": {},
   "outputs": [
    {
     "name": "stdout",
     "output_type": "stream",
     "text": [
      "in parse_rows 5\n",
      "5\n"
     ]
    },
    {
     "data": {
      "text/plain": [
       "['5']"
      ]
     },
     "execution_count": 21,
     "metadata": {},
     "output_type": "execute_result"
    }
   ],
   "source": [
    "next(g)"
   ]
  },
  {
   "cell_type": "code",
   "execution_count": 24,
   "id": "brave-entrance",
   "metadata": {},
   "outputs": [
    {
     "name": "stdout",
     "output_type": "stream",
     "text": [
      "in parse_rows 1,4,2\n",
      "1\n",
      "['1', '4', '2']\n",
      "in parse_rows 5\n",
      "5\n",
      "['5']\n",
      "in parse_rows 8,7,9\n",
      "8\n",
      "['8', '7', '9']\n"
     ]
    }
   ],
   "source": [
    "for row in g:\n",
    "    print(row)"
   ]
  },
  {
   "cell_type": "code",
   "execution_count": 25,
   "id": "finnish-opera",
   "metadata": {},
   "outputs": [],
   "source": [
    "def parse_rows(s):\n",
    "    \"\"\"takes string and breaks up into lines\n",
    "    parses lines as if text was csv\"\"\"\n",
    "    for line in s.split('\\n'):\n",
    "        print('in parse_rows', line)\n",
    "        parsed_row = line.split(',')\n",
    "        print(int(line.split(',')[0]))\n",
    "        yield parsed_row\n",
    "\n",
    "def extract_first(rows):\n",
    "    \"\"\"gives back first element in each row\"\"\"\n",
    "    for row in rows:\n",
    "        print('in extract_first',row)\n",
    "        yield row[0]\n",
    "\n",
    "rows = parse_rows(s)\n",
    "first_elements = extract_first(rows)"
   ]
  },
  {
   "cell_type": "code",
   "execution_count": 26,
   "id": "ideal-empty",
   "metadata": {},
   "outputs": [
    {
     "name": "stdout",
     "output_type": "stream",
     "text": [
      "in parse_rows 1,4,2\n",
      "1\n",
      "in extract_first ['1', '4', '2']\n"
     ]
    },
    {
     "data": {
      "text/plain": [
       "'1'"
      ]
     },
     "execution_count": 26,
     "metadata": {},
     "output_type": "execute_result"
    }
   ],
   "source": [
    "# generators are lazily executed. There is no print out until it needs it \n",
    "next(first_elements)"
   ]
  },
  {
   "cell_type": "code",
   "execution_count": 27,
   "id": "commercial-arrest",
   "metadata": {},
   "outputs": [
    {
     "name": "stdout",
     "output_type": "stream",
     "text": [
      "in parse_rows 5\n",
      "5\n",
      "in extract_first ['5']\n"
     ]
    },
    {
     "data": {
      "text/plain": [
       "'5'"
      ]
     },
     "execution_count": 27,
     "metadata": {},
     "output_type": "execute_result"
    }
   ],
   "source": [
    "next(first_elements)"
   ]
  },
  {
   "cell_type": "code",
   "execution_count": 28,
   "id": "variable-abuse",
   "metadata": {},
   "outputs": [],
   "source": [
    "# A lot of built in functions can take a generator as an argument \n",
    "rows = parse_rows(s)\n",
    "first_elements = extract_first(rows)\n",
    "numbers=(int (n) for n in first_elements) "
   ]
  },
  {
   "cell_type": "code",
   "execution_count": 29,
   "id": "oriented-minneapolis",
   "metadata": {},
   "outputs": [
    {
     "name": "stdout",
     "output_type": "stream",
     "text": [
      "in parse_rows 1,4,2\n",
      "1\n",
      "in extract_first ['1', '4', '2']\n",
      "in parse_rows 5\n",
      "5\n",
      "in extract_first ['5']\n",
      "in parse_rows 8,7,9\n",
      "8\n",
      "in extract_first ['8', '7', '9']\n"
     ]
    },
    {
     "data": {
      "text/plain": [
       "14"
      ]
     },
     "execution_count": 29,
     "metadata": {},
     "output_type": "execute_result"
    }
   ],
   "source": [
    "sum(numbers)"
   ]
  },
  {
   "cell_type": "code",
   "execution_count": 30,
   "id": "loved-strand",
   "metadata": {},
   "outputs": [
    {
     "ename": "ValueError",
     "evalue": "min() arg is an empty sequence",
     "output_type": "error",
     "traceback": [
      "\u001b[0;31m---------------------------------------------------------------------------\u001b[0m",
      "\u001b[0;31mValueError\u001b[0m                                Traceback (most recent call last)",
      "\u001b[0;32m<ipython-input-30-8b3e4a33d764>\u001b[0m in \u001b[0;36m<module>\u001b[0;34m\u001b[0m\n\u001b[0;32m----> 1\u001b[0;31m \u001b[0mmin\u001b[0m\u001b[0;34m(\u001b[0m\u001b[0mnumbers\u001b[0m\u001b[0;34m)\u001b[0m\u001b[0;34m\u001b[0m\u001b[0;34m\u001b[0m\u001b[0m\n\u001b[0m",
      "\u001b[0;31mValueError\u001b[0m: min() arg is an empty sequence"
     ]
    }
   ],
   "source": [
    "min(numbers) # Because generator all finished running/iterating"
   ]
  },
  {
   "cell_type": "code",
   "execution_count": null,
   "id": "knowing-paper",
   "metadata": {},
   "outputs": [],
   "source": [
    "# Generators don't do anything until you need it \n",
    "# IT could pause function! "
   ]
  },
  {
   "cell_type": "code",
   "execution_count": 34,
   "id": "working-avenue",
   "metadata": {},
   "outputs": [],
   "source": [
    "import sys"
   ]
  },
  {
   "cell_type": "code",
   "execution_count": 41,
   "id": "painful-cardiff",
   "metadata": {},
   "outputs": [],
   "source": [
    "nums_g = (i for i in range(10000))"
   ]
  },
  {
   "cell_type": "code",
   "execution_count": 42,
   "id": "dated-startup",
   "metadata": {},
   "outputs": [
    {
     "data": {
      "text/plain": [
       "112"
      ]
     },
     "execution_count": 42,
     "metadata": {},
     "output_type": "execute_result"
    }
   ],
   "source": [
    "sys.getsizeof(nums_g)"
   ]
  },
  {
   "cell_type": "code",
   "execution_count": 43,
   "id": "painted-mobile",
   "metadata": {},
   "outputs": [],
   "source": [
    "rows=parse_rows(s)"
   ]
  },
  {
   "cell_type": "code",
   "execution_count": 44,
   "id": "functional-stamp",
   "metadata": {},
   "outputs": [
    {
     "data": {
      "text/plain": [
       "generator"
      ]
     },
     "execution_count": 44,
     "metadata": {},
     "output_type": "execute_result"
    }
   ],
   "source": [
    "type(rows)"
   ]
  },
  {
   "cell_type": "code",
   "execution_count": 45,
   "id": "selective-kinase",
   "metadata": {},
   "outputs": [
    {
     "data": {
      "text/plain": [
       "112"
      ]
     },
     "execution_count": 45,
     "metadata": {},
     "output_type": "execute_result"
    }
   ],
   "source": [
    "sys.getsizeof(rows)"
   ]
  },
  {
   "cell_type": "code",
   "execution_count": 46,
   "id": "coordinate-negative",
   "metadata": {},
   "outputs": [],
   "source": [
    "nums=list(range(10000))"
   ]
  },
  {
   "cell_type": "code",
   "execution_count": 47,
   "id": "adolescent-vermont",
   "metadata": {},
   "outputs": [
    {
     "data": {
      "text/plain": [
       "80056"
      ]
     },
     "execution_count": 47,
     "metadata": {},
     "output_type": "execute_result"
    }
   ],
   "source": [
    "sys.getsizeof(nums)"
   ]
  },
  {
   "cell_type": "code",
   "execution_count": 48,
   "id": "applied-laptop",
   "metadata": {},
   "outputs": [
    {
     "ename": "TypeError",
     "evalue": "'generator' object is not subscriptable",
     "output_type": "error",
     "traceback": [
      "\u001b[0;31m---------------------------------------------------------------------------\u001b[0m",
      "\u001b[0;31mTypeError\u001b[0m                                 Traceback (most recent call last)",
      "\u001b[0;32m<ipython-input-48-5e09a902be73>\u001b[0m in \u001b[0;36m<module>\u001b[0;34m\u001b[0m\n\u001b[0;32m----> 1\u001b[0;31m \u001b[0mrows\u001b[0m\u001b[0;34m[\u001b[0m\u001b[0;36m1\u001b[0m\u001b[0;34m]\u001b[0m\u001b[0;34m\u001b[0m\u001b[0;34m\u001b[0m\u001b[0m\n\u001b[0m",
      "\u001b[0;31mTypeError\u001b[0m: 'generator' object is not subscriptable"
     ]
    }
   ],
   "source": [
    "rows[1] # For generators, we can't rewind. "
   ]
  },
  {
   "cell_type": "code",
   "execution_count": 49,
   "id": "dirty-appliance",
   "metadata": {},
   "outputs": [
    {
     "ename": "TypeError",
     "evalue": "object of type 'generator' has no len()",
     "output_type": "error",
     "traceback": [
      "\u001b[0;31m---------------------------------------------------------------------------\u001b[0m",
      "\u001b[0;31mTypeError\u001b[0m                                 Traceback (most recent call last)",
      "\u001b[0;32m<ipython-input-49-ef340dbc6281>\u001b[0m in \u001b[0;36m<module>\u001b[0;34m\u001b[0m\n\u001b[0;32m----> 1\u001b[0;31m \u001b[0mlen\u001b[0m\u001b[0;34m(\u001b[0m\u001b[0mrows\u001b[0m\u001b[0;34m)\u001b[0m\u001b[0;34m\u001b[0m\u001b[0;34m\u001b[0m\u001b[0m\n\u001b[0m",
      "\u001b[0;31mTypeError\u001b[0m: object of type 'generator' has no len()"
     ]
    }
   ],
   "source": [
    "len(rows)"
   ]
  },
  {
   "cell_type": "code",
   "execution_count": 50,
   "id": "norman-samoa",
   "metadata": {},
   "outputs": [
    {
     "name": "stdout",
     "output_type": "stream",
     "text": [
      "in parse_rows 1,4,2\n",
      "1\n",
      "in parse_rows 5\n",
      "5\n",
      "in parse_rows 8,7,9\n",
      "8\n"
     ]
    },
    {
     "data": {
      "text/plain": [
       "3"
      ]
     },
     "execution_count": 50,
     "metadata": {},
     "output_type": "execute_result"
    }
   ],
   "source": [
    "sum(1 for row in rows)"
   ]
  },
  {
   "cell_type": "code",
   "execution_count": null,
   "id": "respected-prize",
   "metadata": {},
   "outputs": [],
   "source": [
    "# generators could be infinite "
   ]
  },
  {
   "cell_type": "markdown",
   "id": "regional-parameter",
   "metadata": {},
   "source": [
    "## Overview of summary statistics that we will run"
   ]
  },
  {
   "cell_type": "markdown",
   "id": "animated-launch",
   "metadata": {},
   "source": [
    "### Exploring Data Set\n",
    "\n",
    "* Looking at rows of data \n",
    "1. Take a look at first few rows\n",
    "2. Look at last rows\n",
    "3. Random sampling of rows \n",
    "\n",
    "* What are the types of data I have\n",
    "1. Look at the header\n",
    "2. Look values in a column\n",
    "    if numeric, continous(float?) or whole/int?\n",
    "    if categorical, discrete values? ordinal(ranked in some way)? yes/no?\n",
    " \n",
    "### u haz numerical data \n",
    "- range `max` and `min`\n",
    "- where your data is \"centered\"? \n",
    "    - mean\n",
    "    - median\n",
    "    - mode <--- also works for categorical data\n",
    "    "
   ]
  },
  {
   "cell_type": "code",
   "execution_count": 51,
   "id": "approved-proceeding",
   "metadata": {},
   "outputs": [],
   "source": [
    "mean = lambda data:sum(data) /len(data)"
   ]
  },
  {
   "cell_type": "code",
   "execution_count": 52,
   "id": "fantastic-amino",
   "metadata": {},
   "outputs": [],
   "source": [
    "# mode ... dict, counter \n",
    "import random"
   ]
  },
  {
   "cell_type": "code",
   "execution_count": 53,
   "id": "surprised-distinction",
   "metadata": {},
   "outputs": [],
   "source": [
    "rolls = [random.randint (1,6) for _ in range(100)]\n",
    "# _ as a single char variable name means we are not using loop variable"
   ]
  },
  {
   "cell_type": "code",
   "execution_count": 58,
   "id": "molecular-uzbekistan",
   "metadata": {},
   "outputs": [
    {
     "ename": "KeyError",
     "evalue": "5",
     "output_type": "error",
     "traceback": [
      "\u001b[0;31m---------------------------------------------------------------------------\u001b[0m",
      "\u001b[0;31mKeyError\u001b[0m                                  Traceback (most recent call last)",
      "\u001b[0;32m<ipython-input-58-bf33eba4dac9>\u001b[0m in \u001b[0;36m<module>\u001b[0;34m\u001b[0m\n\u001b[1;32m      1\u001b[0m \u001b[0md\u001b[0m\u001b[0;34m=\u001b[0m \u001b[0;34m{\u001b[0m\u001b[0;34m}\u001b[0m\u001b[0;34m\u001b[0m\u001b[0;34m\u001b[0m\u001b[0m\n\u001b[1;32m      2\u001b[0m \u001b[0;32mfor\u001b[0m \u001b[0mres\u001b[0m \u001b[0;32min\u001b[0m \u001b[0mrolls\u001b[0m\u001b[0;34m:\u001b[0m\u001b[0;34m\u001b[0m\u001b[0;34m\u001b[0m\u001b[0m\n\u001b[0;32m----> 3\u001b[0;31m     \u001b[0md\u001b[0m\u001b[0;34m[\u001b[0m\u001b[0mres\u001b[0m\u001b[0;34m]\u001b[0m \u001b[0;34m=\u001b[0m \u001b[0md\u001b[0m\u001b[0;34m[\u001b[0m\u001b[0mres\u001b[0m\u001b[0;34m]\u001b[0m\u001b[0;34m+\u001b[0m\u001b[0;36m1\u001b[0m\u001b[0;34m\u001b[0m\u001b[0;34m\u001b[0m\u001b[0m\n\u001b[0m",
      "\u001b[0;31mKeyError\u001b[0m: 5"
     ]
    }
   ],
   "source": [
    "d= {}\n",
    "for res in rolls:\n",
    "    d[res] = d[res]+1\n",
    "    # d[res] does not exist! \n",
    "    # either have to initialize values with zero in dictionary so.."
   ]
  },
  {
   "cell_type": "code",
   "execution_count": 59,
   "id": "affected-creator",
   "metadata": {},
   "outputs": [],
   "source": [
    "d= {}\n",
    "for res in rolls:\n",
    "    try:\n",
    "        d[res]=d[res]+1\n",
    "    except KeyError:\n",
    "        d[res] =1"
   ]
  },
  {
   "cell_type": "code",
   "execution_count": 60,
   "id": "sufficient-export",
   "metadata": {},
   "outputs": [
    {
     "data": {
      "text/plain": [
       "{5: 18, 6: 14, 4: 20, 1: 21, 2: 14, 3: 13}"
      ]
     },
     "execution_count": 60,
     "metadata": {},
     "output_type": "execute_result"
    }
   ],
   "source": [
    "d"
   ]
  },
  {
   "cell_type": "code",
   "execution_count": null,
   "id": "reported-manual",
   "metadata": {},
   "outputs": [],
   "source": [
    "# other than try and except "
   ]
  },
  {
   "cell_type": "code",
   "execution_count": 61,
   "id": "spread-antarctica",
   "metadata": {},
   "outputs": [],
   "source": [
    "d= {}\n",
    "for res in rolls:\n",
    "    d[res] =d.get(res,0)+1"
   ]
  },
  {
   "cell_type": "code",
   "execution_count": 62,
   "id": "sound-baking",
   "metadata": {},
   "outputs": [
    {
     "data": {
      "text/plain": [
       "{5: 18, 6: 14, 4: 20, 1: 21, 2: 14, 3: 13}"
      ]
     },
     "execution_count": 62,
     "metadata": {},
     "output_type": "execute_result"
    }
   ],
   "source": [
    "d"
   ]
  },
  {
   "cell_type": "markdown",
   "id": "scenic-bobby",
   "metadata": {},
   "source": [
    "### USEFUL Library"
   ]
  },
  {
   "cell_type": "code",
   "execution_count": 64,
   "id": "consistent-license",
   "metadata": {},
   "outputs": [],
   "source": [
    "from collections import Counter "
   ]
  },
  {
   "cell_type": "code",
   "execution_count": 65,
   "id": "going-chapter",
   "metadata": {},
   "outputs": [],
   "source": [
    "c = Counter()"
   ]
  },
  {
   "cell_type": "code",
   "execution_count": 66,
   "id": "charged-sample",
   "metadata": {},
   "outputs": [],
   "source": [
    "c['whatever']=5"
   ]
  },
  {
   "cell_type": "code",
   "execution_count": 68,
   "id": "minus-columbus",
   "metadata": {},
   "outputs": [
    {
     "data": {
      "text/plain": [
       "Counter({'whatever': 5})"
      ]
     },
     "execution_count": 68,
     "metadata": {},
     "output_type": "execute_result"
    }
   ],
   "source": [
    "c"
   ]
  },
  {
   "cell_type": "code",
   "execution_count": 69,
   "id": "passing-national",
   "metadata": {},
   "outputs": [],
   "source": [
    "c = Counter(rolls)"
   ]
  },
  {
   "cell_type": "code",
   "execution_count": 70,
   "id": "growing-aberdeen",
   "metadata": {},
   "outputs": [
    {
     "data": {
      "text/plain": [
       "Counter({5: 18, 6: 14, 4: 20, 1: 21, 2: 14, 3: 13})"
      ]
     },
     "execution_count": 70,
     "metadata": {},
     "output_type": "execute_result"
    }
   ],
   "source": [
    "c"
   ]
  },
  {
   "cell_type": "code",
   "execution_count": 71,
   "id": "stock-opera",
   "metadata": {},
   "outputs": [
    {
     "data": {
      "text/plain": [
       "[(1, 21), (4, 20)]"
      ]
     },
     "execution_count": 71,
     "metadata": {},
     "output_type": "execute_result"
    }
   ],
   "source": [
    "c.most_common(2)"
   ]
  },
  {
   "cell_type": "code",
   "execution_count": null,
   "id": "compressed-efficiency",
   "metadata": {},
   "outputs": [],
   "source": [
    "variance: average of difference between every data points in square\n",
    "standard deviation: normalizes variance"
   ]
  },
  {
   "cell_type": "markdown",
   "id": "vertical-spectacular",
   "metadata": {},
   "source": [
    "### Useful library"
   ]
  },
  {
   "cell_type": "code",
   "execution_count": 74,
   "id": "digital-capture",
   "metadata": {},
   "outputs": [],
   "source": [
    "import numpy as np"
   ]
  },
  {
   "cell_type": "code",
   "execution_count": 75,
   "id": "fitted-updating",
   "metadata": {},
   "outputs": [
    {
     "data": {
      "text/plain": [
       "<function numpy.std(a, axis=None, dtype=None, out=None, ddof=0, keepdims=<no value>)>"
      ]
     },
     "execution_count": 75,
     "metadata": {},
     "output_type": "execute_result"
    }
   ],
   "source": [
    "np.std"
   ]
  },
  {
   "cell_type": "code",
   "execution_count": null,
   "id": "experienced-substance",
   "metadata": {},
   "outputs": [],
   "source": [
    "What are the associate python types: int, float, str ..\n",
    "numpy\n",
    "pandas"
   ]
  },
  {
   "cell_type": "markdown",
   "id": "gentle-security",
   "metadata": {},
   "source": [
    "## Numpy"
   ]
  },
  {
   "cell_type": "code",
   "execution_count": 2,
   "id": "greek-domestic",
   "metadata": {},
   "outputs": [],
   "source": [
    "import numpy as np"
   ]
  },
  {
   "cell_type": "code",
   "execution_count": 3,
   "id": "entire-catalog",
   "metadata": {},
   "outputs": [
    {
     "data": {
      "text/plain": [
       "array([0, 1, 2, 3, 4, 5, 6, 7, 8])"
      ]
     },
     "execution_count": 3,
     "metadata": {},
     "output_type": "execute_result"
    }
   ],
   "source": [
    "np.arange(9)"
   ]
  },
  {
   "cell_type": "code",
   "execution_count": 5,
   "id": "hourly-settle",
   "metadata": {},
   "outputs": [],
   "source": [
    "arr= np.array([[1,2],[3,4],[5,6]])"
   ]
  },
  {
   "cell_type": "code",
   "execution_count": 6,
   "id": "possible-lincoln",
   "metadata": {},
   "outputs": [
    {
     "data": {
      "text/plain": [
       "(3, 2)"
      ]
     },
     "execution_count": 6,
     "metadata": {},
     "output_type": "execute_result"
    }
   ],
   "source": [
    "arr.shape"
   ]
  },
  {
   "cell_type": "code",
   "execution_count": 7,
   "id": "floral-zimbabwe",
   "metadata": {},
   "outputs": [],
   "source": [
    "arr2= np.arange(9)"
   ]
  },
  {
   "cell_type": "code",
   "execution_count": 8,
   "id": "activated-triumph",
   "metadata": {},
   "outputs": [
    {
     "data": {
      "text/plain": [
       "array([0, 1, 2, 3, 4, 5, 6, 7, 8])"
      ]
     },
     "execution_count": 8,
     "metadata": {},
     "output_type": "execute_result"
    }
   ],
   "source": [
    "arr2"
   ]
  },
  {
   "cell_type": "code",
   "execution_count": 10,
   "id": "unusual-toner",
   "metadata": {},
   "outputs": [],
   "source": [
    "arr2.shape=(3,3)"
   ]
  },
  {
   "cell_type": "code",
   "execution_count": 11,
   "id": "surprised-language",
   "metadata": {},
   "outputs": [
    {
     "data": {
      "text/plain": [
       "array([[0, 1, 2],\n",
       "       [3, 4, 5],\n",
       "       [6, 7, 8]])"
      ]
     },
     "execution_count": 11,
     "metadata": {},
     "output_type": "execute_result"
    }
   ],
   "source": [
    "arr2"
   ]
  },
  {
   "cell_type": "code",
   "execution_count": 13,
   "id": "realistic-pioneer",
   "metadata": {},
   "outputs": [],
   "source": [
    "arr2.shape =(9,)"
   ]
  },
  {
   "cell_type": "code",
   "execution_count": 14,
   "id": "functional-karen",
   "metadata": {},
   "outputs": [
    {
     "data": {
      "text/plain": [
       "array([0, 1, 2, 3, 4, 5, 6, 7, 8])"
      ]
     },
     "execution_count": 14,
     "metadata": {},
     "output_type": "execute_result"
    }
   ],
   "source": [
    "arr2"
   ]
  },
  {
   "cell_type": "code",
   "execution_count": 15,
   "id": "confirmed-overall",
   "metadata": {},
   "outputs": [
    {
     "data": {
      "text/plain": [
       "array([[0, 1, 2],\n",
       "       [3, 4, 5],\n",
       "       [6, 7, 8]])"
      ]
     },
     "execution_count": 15,
     "metadata": {},
     "output_type": "execute_result"
    }
   ],
   "source": [
    "arr2.reshape(3,3)"
   ]
  },
  {
   "cell_type": "code",
   "execution_count": 16,
   "id": "dried-leave",
   "metadata": {},
   "outputs": [
    {
     "data": {
      "text/plain": [
       "array([0, 1, 2, 3, 4, 5, 6, 7, 8])"
      ]
     },
     "execution_count": 16,
     "metadata": {},
     "output_type": "execute_result"
    }
   ],
   "source": [
    "arr2 #remains same "
   ]
  },
  {
   "cell_type": "code",
   "execution_count": 17,
   "id": "ordered-mechanism",
   "metadata": {},
   "outputs": [
    {
     "data": {
      "text/plain": [
       "dtype('int64')"
      ]
     },
     "execution_count": 17,
     "metadata": {},
     "output_type": "execute_result"
    }
   ],
   "source": [
    "arr2.dtype"
   ]
  },
  {
   "cell_type": "code",
   "execution_count": 21,
   "id": "grateful-coupon",
   "metadata": {},
   "outputs": [],
   "source": [
    "arr3 =arr2.astype('float64')"
   ]
  },
  {
   "cell_type": "code",
   "execution_count": 22,
   "id": "sound-tomato",
   "metadata": {},
   "outputs": [
    {
     "data": {
      "text/plain": [
       "array([0., 1., 2., 3., 4., 5., 6., 7., 8.])"
      ]
     },
     "execution_count": 22,
     "metadata": {},
     "output_type": "execute_result"
    }
   ],
   "source": [
    "arr3"
   ]
  },
  {
   "cell_type": "code",
   "execution_count": 23,
   "id": "loaded-protein",
   "metadata": {},
   "outputs": [
    {
     "data": {
      "text/plain": [
       "array([[0., 1., 2.],\n",
       "       [3., 4., 5.],\n",
       "       [6., 7., 8.]])"
      ]
     },
     "execution_count": 23,
     "metadata": {},
     "output_type": "execute_result"
    }
   ],
   "source": [
    "arr3.reshape(3,3)"
   ]
  },
  {
   "cell_type": "code",
   "execution_count": 20,
   "id": "adjacent-welding",
   "metadata": {},
   "outputs": [
    {
     "data": {
      "text/plain": [
       "array([0, 1, 2, 3, 4, 5, 6, 7, 8])"
      ]
     },
     "execution_count": 20,
     "metadata": {},
     "output_type": "execute_result"
    }
   ],
   "source": [
    "arr2"
   ]
  },
  {
   "cell_type": "code",
   "execution_count": 24,
   "id": "capable-partition",
   "metadata": {},
   "outputs": [],
   "source": [
    "animals = np.array(['ant','cat','bat'])"
   ]
  },
  {
   "cell_type": "code",
   "execution_count": 26,
   "id": "breathing-divorce",
   "metadata": {},
   "outputs": [
    {
     "data": {
      "text/plain": [
       "dtype('<U3')"
      ]
     },
     "execution_count": 26,
     "metadata": {},
     "output_type": "execute_result"
    }
   ],
   "source": [
    "animals.dtype #unicode 3bytes less"
   ]
  },
  {
   "cell_type": "code",
   "execution_count": 27,
   "id": "proof-daughter",
   "metadata": {},
   "outputs": [],
   "source": [
    "animals = np.array(['ant','cat','batttt'])"
   ]
  },
  {
   "cell_type": "code",
   "execution_count": 28,
   "id": "cardiac-semiconductor",
   "metadata": {},
   "outputs": [
    {
     "data": {
      "text/plain": [
       "dtype('<U6')"
      ]
     },
     "execution_count": 28,
     "metadata": {},
     "output_type": "execute_result"
    }
   ],
   "source": [
    "animals.dtype"
   ]
  },
  {
   "cell_type": "code",
   "execution_count": 29,
   "id": "deluxe-island",
   "metadata": {},
   "outputs": [],
   "source": [
    "arr= np.array([[1,1],[2,2],[3,4],[5,6]])"
   ]
  },
  {
   "cell_type": "code",
   "execution_count": null,
   "id": "hundred-nigeria",
   "metadata": {},
   "outputs": [],
   "source": [
    "#axis! very confusing but first element given by shape "
   ]
  },
  {
   "cell_type": "code",
   "execution_count": null,
   "id": "assumed-hospital",
   "metadata": {},
   "outputs": [],
   "source": [
    "#shape (2,3) => axis 0 is 2, axis 1 is going to be 3 "
   ]
  },
  {
   "cell_type": "code",
   "execution_count": null,
   "id": "suitable-heading",
   "metadata": {},
   "outputs": [],
   "source": [
    "# usually if dealing with tabular data, it would be 2d array"
   ]
  },
  {
   "cell_type": "code",
   "execution_count": null,
   "id": "muslim-burden",
   "metadata": {},
   "outputs": [],
   "source": [
    "# Vectorized operations "
   ]
  },
  {
   "cell_type": "code",
   "execution_count": 34,
   "id": "statutory-gibson",
   "metadata": {},
   "outputs": [
    {
     "data": {
      "text/plain": [
       "array([[1, 1],\n",
       "       [2, 2],\n",
       "       [3, 4],\n",
       "       [5, 6]])"
      ]
     },
     "execution_count": 34,
     "metadata": {},
     "output_type": "execute_result"
    }
   ],
   "source": [
    "arr"
   ]
  },
  {
   "cell_type": "code",
   "execution_count": 31,
   "id": "mexican-freeware",
   "metadata": {},
   "outputs": [
    {
     "data": {
      "text/plain": [
       "array([[ 3,  3],\n",
       "       [ 6,  6],\n",
       "       [ 9, 12],\n",
       "       [15, 18]])"
      ]
     },
     "execution_count": 31,
     "metadata": {},
     "output_type": "execute_result"
    }
   ],
   "source": [
    "arr *3"
   ]
  },
  {
   "cell_type": "code",
   "execution_count": 32,
   "id": "republican-radius",
   "metadata": {},
   "outputs": [
    {
     "data": {
      "text/plain": [
       "array([[False, False],\n",
       "       [False, False],\n",
       "       [False, False],\n",
       "       [ True,  True]])"
      ]
     },
     "execution_count": 32,
     "metadata": {},
     "output_type": "execute_result"
    }
   ],
   "source": [
    "arr >4"
   ]
  },
  {
   "cell_type": "code",
   "execution_count": 33,
   "id": "aggressive-humanitarian",
   "metadata": {},
   "outputs": [
    {
     "data": {
      "text/plain": [
       "array([[ 2,  2],\n",
       "       [ 4,  4],\n",
       "       [ 6,  8],\n",
       "       [10, 12]])"
      ]
     },
     "execution_count": 33,
     "metadata": {},
     "output_type": "execute_result"
    }
   ],
   "source": [
    "arr + arr"
   ]
  },
  {
   "cell_type": "code",
   "execution_count": null,
   "id": "signed-fluid",
   "metadata": {},
   "outputs": [],
   "source": []
  }
 ],
 "metadata": {
  "kernelspec": {
   "display_name": "Python 3",
   "language": "python",
   "name": "python3"
  },
  "language_info": {
   "codemirror_mode": {
    "name": "ipython",
    "version": 3
   },
   "file_extension": ".py",
   "mimetype": "text/x-python",
   "name": "python",
   "nbconvert_exporter": "python",
   "pygments_lexer": "ipython3",
   "version": "3.8.3"
  }
 },
 "nbformat": 4,
 "nbformat_minor": 5
}

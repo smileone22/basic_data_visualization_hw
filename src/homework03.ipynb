{
 "cells": [
  {
   "cell_type": "markdown",
   "id": "conceptual-fundamental",
   "metadata": {},
   "source": [
    "\n",
    "## Part 1 - Questions\n",
    "\n",
    "\n",
    "### Question 1: \n",
    "\n",
    "Find sidewalk cafés with the maximum space\n",
    "\n",
    "* Who (population): cafe lovers, any business groups that involves cafe, government agency\n",
    "* What (subject, discipline): cafe outdoor space\n",
    "* Where (location): New York \n",
    "* When (snapshot, longitudinal): snapshot \n",
    "* How much data do you need to do the analysis/work: every data should include space.\n",
    "\n",
    "### Question 2: \n",
    "\n",
    "Which city in New York has the most active sidewalk cafés?\n",
    "\n",
    "* Who (population): Business starters, business analysts, consultants, or any industry group that involves cafe, government agency \n",
    "* What (subject, discipline): Cafe\n",
    "* Where (location): New York \n",
    "* When (snapshot, longitudinal): snapshot \n",
    "* How much data do you need to do the analysis/work: examine city and see if they are active or not\n",
    "\n",
    "### Who Might Collect Relevant Data / What Articles or Publications Cite a Relevant Data Set?\n",
    "\n",
    "Government agency, private business or industry group, and nonprofit/nongovernmental organization."
   ]
  },
  {
   "cell_type": "markdown",
   "id": "centered-stage",
   "metadata": {},
   "source": [
    "## Part 2 - Selecting a Data Set, Adding Documentation\n",
    "\n",
    "\n",
    "\n",
    "1. Name / Title: Sidewalk Café Licenses and Applications\n",
    "2. Link to Data: https://data.cityofnewyork.us/Business/Sidewalk-Caf-Licenses-and-Applications/qcdj-rwhu/data\n",
    "3. Source / Origin: \n",
    "\t* Author or Creator: Department of Consumer Affairs (DCA)\n",
    "\t* Publication Date: 3/25/2016\n",
    "\t* Publisher: NYC OpenData\n",
    "\t* Version or Data Accessed: Update version on February 20, 2021\n",
    "4. License: CC0: Department of Consumer Affairs (DCA)\n",
    "5. Can You Use this Data Set for Your Intended Use Case? Yes."
   ]
  },
  {
   "cell_type": "markdown",
   "id": "bottom-updating",
   "metadata": {},
   "source": [
    "## Format\n",
    "\n"
   ]
  },
  {
   "cell_type": "markdown",
   "id": "hazardous-sampling",
   "metadata": {},
   "source": [
    "\n",
    "### Overview\n",
    "\n",
    "* Format: .csv\n",
    "* Size: 525KB\n",
    "* Number of Records: 1120\n",
    "\n"
   ]
  },
  {
   "cell_type": "markdown",
   "id": "acceptable-headset",
   "metadata": {},
   "source": [
    "### Sample of Data\n",
    "\n",
    "\n"
   ]
  },
  {
   "cell_type": "code",
   "execution_count": 1,
   "id": "dramatic-entity",
   "metadata": {},
   "outputs": [
    {
     "name": "stdout",
     "output_type": "stream",
     "text": [
      "LICENSE_NBR,LIC_STATUS,BUSINESS_NAME,BUSINESS_NAME2,BUILDING,STREET,CITY,STATE,ZIP,SWC_TYPE,SWC_SQ_FT,SWC_TABLES,SWC_CHAIRS,DOHMH,LATITUDE,LONGITUDE,COMMUNITY_DISTRICT,CITY_COUNCIL_DISTRICT,CD_URL,APP_ID,APP_SWC_TYPE,APP_SQ_FT,APP_TABLES,APP_CHAIRS,APP_STATUS,APP_STATUS_DATE,EXPIRATION_DATE,APP_TOO_DATE,SUBMIT_DATE,INTAKE,INTAKE_DD,DPQA,SEND_PACKAGE_DD,CP,CP_DD,CB,CB_DD,HEARING,HEARING_DD,HEARING_PUBLIC,HEARING_PUBLIC_DD,CC,CC_DD,MOO,MOO_DD,ISSUANCE,ISSUANCE_DD\n",
      "\n",
      "2010340-DCA,Inactive,ELLA HOSPITALITY LLC,MEDOWSWEET,149,BROADWAY,BROOKLYN,NY,11211,Unenclosed,163,4,16,50008761,40.71044254815909,-73.96320842552191,301,34,http://www.nyc.gov/brooklyncb1,30722-2018-RSWC,Unenclosed,163,4,16,Application Review Completed,12/05/2018,12/15/2020,,12/05/2018,Ready For Review,12/05/2018,Approved,,,,,,,,,,,,,,Issued,12/05/2018\n",
      "\n",
      "2090170-DCA,Active,HOST 213 LLC,JACKDAW,213,2ND AVE,NEW YORK,NY,10003,Unenclosed,262,11,22,50092650,40.73187858974942,-73.9854951270192,103,2,http://www.nyc.gov/manhattancb3,8132-2019-ASWC,Unenclosed,262,11,22,Application Review Completed,11/12/2019,12/15/2021,,07/10/2019,Ready For Review,07/10/2019,Approved,07/11/2019,,,Review Period Expired,09/04/2019,Recommendation Issued,09/04/2019,SWC Public Hearing,08/28/2019,Review Period Expired,09/26/2019,Approved,11/12/2019,Issued,11/12/2019\n",
      "\n",
      "2085253-DCA,Active,AELE LLC,BATHHOUSE,103,N 10TH ST,BROOKLYN,NY,11249,Unenclosed,508,12,36,50087742,40.720813059116296,-73.95756766277235,301,33,http://www.nyc.gov/brooklyncb1,2292-2019-ASWC,Unenclosed,508,12,36,Application Review Completed,07/11/2019,09/15/2021,,07/08/2019,Ready For Review,03/06/2019,Approved,03/06/2019,,,Recommend Approval,05/01/2019,Recommendation Issued,05/01/2019,SWC Public Hearing,04/24/2019,Review Period Expired,05/22/2019,Approved,07/11/2019,Issued,07/11/2019\n",
      "\n",
      "1248301-DCA,Active,PONENTE LLC,NIZZA,628,9TH AVE,NEW YORK,NY,10036,Unenclosed,249,10,20,41235443,40.75991404567799,-73.99132590038796,104,3,http://www.nyc.gov/mcb4,16369-2019-RSWC,Unenclosed,249,10,20,Application Review Completed,08/05/2019,04/15/2021,09/24/2019,04/01/2019,Ready For Review,04/01/2019,Approved,04/02/2019,,,Review Period Expired,05/21/2019,Waived,05/21/2019,,,Review Period Expired,06/11/2019,Approved,08/05/2019,Issued,08/05/2019\n",
      "\n"
     ]
    }
   ],
   "source": [
    "# TODO show a few lines of data from the actual file\n",
    "\n",
    "# Use \"regular\" Python to do this in this code block\n",
    "# Assume that jupyter-lab was started in your root directory\n",
    "# with open('./data/raw/example-data.csv', 'r'): \n",
    "line_count=0 \n",
    "with open('Sidewalk_Caf__Licenses_and_Applications.csv', 'r') as f:\n",
    "    for line in f:\n",
    "        if line_count==5:\n",
    "            break\n",
    "        line_count+=1\n",
    "        print(line)   "
   ]
  },
  {
   "cell_type": "markdown",
   "id": "unavailable-freedom",
   "metadata": {},
   "source": [
    "\n",
    "### Fields or Column Headers\n",
    "\n",
    "* Field/Column 1: LICENSE_NBR (An identification number issued to businesses/individuals to operate legally for the duration of their license term.)\n",
    "* Field/Column 2: LIC_STATUS (This indicates whether a sidewalk café license is active or inactive.)\n",
    "* Field/Column 3: BUSINESS_NAME (The legal business name as filed with the New York State Secretary of State or County Clerk)\n",
    "* Field/Column 4: BUSINESS_NAME (If applicable, the Doing-Business-As (DBA)/trade name.)\n",
    "* Field/Column 5: BUILDING (The building number of the business’s address.)\n",
    "* Field/Column 6: STREET (The street name of the business’s address.)\n",
    "* Field/Column 7: CITY (The city where the business is located.)\n",
    "* Field/Column 8: STATE (The state where the business is located. )\n",
    "* Field/Column 9: ZIP (The zip code where the business is located.)\n",
    "* Field/Column 10: SWC_TYPE( A sidewalk café is a portion of a legal restaurant that operates on the public sidewalk. There are three types: Enclosed, Unenclosed, and Small Unenclosed.)\n",
    "* Field/Column 11: SWC_SQ_FT (This indicates the size of the sidewalk café space by square footage as permitted by the business’s DCA license. )\n",
    "* Field/Column 12: SWC_TABLES (This indicates the maximum number of tables for the sidewalk café space as permitted by the business’s DCA license.)\n",
    "* Field/Column 13: SWC_CHAIRS (This indicates the maximum number of chairs for the sidewalk café space as permitted by the business’s DCA license.)\n",
    "* Field/Column 14: DOHMH (An identification number used by the Department of Health and Mental Hygiene (DOHMH) to permit a food service establishment to operate its business.)\n",
    "* Field/Column 15: LATITUDE\n",
    "* Field/Column 16: LONGITUDE\n",
    "* Field/Column 17: COMMUNITY_DISTRICT (The New York City Community District where a business is located.)\n",
    "* Field/Column 18: CITY_COUNCIL_DISTRICT\n",
    "* Field/Column 19: CD_URL (The URL for the website of the NYC Community District where a business is located.)\n",
    "* Field/Column 20: APP_ID (An identification number assigned by DCA to record each application received.)\n",
    "* Field/Column 21: APP_SWC_TYPE (A sidewalk café is a portion of a legal restaurant that operates on the public sidewalk. There are three types: Enclosed, Unenclosed, and Small Unenclosed.)\n",
    "* Field/Column 22: APP_SQ_FT (The business applied for this amount of square footage space for its sidewalk café.)\n",
    "* Field/Column 23: APP_TABLES (The business applied for this number of tables for its sidewalk café space.)\n",
    "* Field/Column 24: APP_CHAIRS (The business applied for this number of chairs for its sidewalk café space.)\n",
    "* Field/Column 25: APP_STATUS (This indicates the status of a business’s DCA sidewalk café application.)\n",
    "* Field/Column 26: APP_STATUS_DATE (The date when a business’s DCA sidewalk café application reached its APP_STATUS.)\n",
    "* Field/Column 27: EXPIRATION_DATE (Expiration date of Temporary Operating Letter or DCA License.)\n",
    "* Field/Column 28: APP_TOO_DATE (Expiration date of Temporary Operating Letter. DCA may issue a Temporary Operating Letter to certain applicants while their license application is being reviewed. This allows the business to legally operate for a specific time period.)\n",
    "* Field/Column 29: SUBMIT_DATE (Latest date when a business pays (a portion of) its submission fee for a DCA sidewalk café license application.)\n",
    "* Field/Column 30: INTAKE (Status of DCA receipt of a sidewalk café license application.)\n",
    "* Field/Column 31: INTAKE_DD (The date when an application’s intake reached its current status.)\n",
    "* Field/Column 32: DPQA (Status of DCA review of a sidewalk café license application.)\n",
    "* Field/Column 33: SEND_PACKAGE_DD (Date when the sidewalk café license application was sent to the relevant Borough President, Community Board, City Council Member, and Speaker of the Council.)\n",
    "* Field/Column 34: CP (Status of the NYC Department of City Planning’s review of enclosed sidewalk café applications.)\n",
    "* Field/Column 35: CP_DD (Date when the application’s Department of City Planning review reached its current status.)\n",
    "* Field/Column 36: CB (Status of the relevant Community Board’s review of a sidewalk café license application.)\n",
    "* Field/Column 37: CB_DD (Date when the application’s Community Board review reached its current status.)\n",
    "* Field/Column 38: HEARING (Status of the public hearing for reviewing sidewalk café license applications.)\n",
    "* Field/Column 39: HEARING_DD (Date when the application’s public hearing reached its current status.)\n",
    "* Field/Column 40: HEARING_PUBLIC (If a public hearing is scheduled, value will be “SWC Public Hearing”.)\n",
    "* Field/Column 41: HEARING_PUBLIC_DD (If applicable, the date when a public hearing is scheduled.)\n",
    "* Field/Column 42: CC (Status of City Council review of a business’s sidewalk café license application.)\n",
    "* Field/Column 43: CC_DD (Date when the application’s City Council review reached its current status.)\n",
    "* Field/Column 44: MOO (Status of Mayor’s Office of Contract Services (MOCS) review of a business’s sidewalk café license application.)\n",
    "* Field/Column 45: MOO_DD (Date when the application’s MOCS review reached its current status.)\n",
    "* Field/Column 46: ISSUANCE (Status of DCA sidewalk café license issuance.)\n",
    "* Field/Column 47: ISSUANCE_DD (Date when the application’s issuance reached its current status.)"
   ]
  },
  {
   "cell_type": "markdown",
   "id": "overall-sensitivity",
   "metadata": {},
   "source": [
    "## Part 3 - Extract / Transform\n",
    "\n",
    "Description of extracting, transforming, cleaning your incoming data:\n",
    "\n",
    "* what columns you'll be using (extracting) from your dataset :  inside cols_to_extract list ---> ['LICENSE_NBR','LIC_STATUS','BUSINESS_NAME','CITY','SWC_TYPE','SWC_SQ_FT','SWC_TABLES','SWC_CHAIRS','EXPIRATION_DATE']\n",
    "\n",
    "* how you're planning to convert the data into analogous python types / how you'll deal with type issues (for example, you may want a column that's numeric, but the data contains a label, such as 4 months) \n",
    ": using map to convert 'SWC_SQ_FT','SWC_TABLES','SWC_CHAIRS' to ints \n",
    "\n",
    "* any other kind of cleaning (_normalizing_ data, filling in missing values, etc.) that you'll have to perform\n",
    ": BUSINESS NAME column had values that contained ',', so used csv.reader to accurately extract Business names rather than to just use split(',')\n",
    "\n",
    "* what you'll use a generator for...\n",
    ": parsing rows into list of cols \n"
   ]
  },
  {
   "cell_type": "code",
   "execution_count": 2,
   "id": "local-paradise",
   "metadata": {},
   "outputs": [],
   "source": [
    "import csv\n",
    "data = open('Sidewalk_Caf__Licenses_and_Applications.csv')\n",
    "data = data.read()\n",
    "data_headers =data.split('\\n')[0].split(',')\n",
    "data= data.split('\\n')[1:]\n",
    "def parse_rows(s):\n",
    "    \"\"\"takes data list and breaks up into cols - GENERATOR \"\"\"\n",
    "    for line in s:\n",
    "        parsed_row = [ '\"{}\"'.format(x) for x in list(csv.reader([line], delimiter=',', quotechar='\"'))[0] ]  \n",
    "        parsed_row = [x.strip('\"') for x in parsed_row]\n",
    "        yield parsed_row\n",
    "        \n",
    "def extract_cols (headers):\n",
    "    \"\"\"returns a list of indexes of columns that is required to extract\"\"\"\n",
    "    col_idx=[]\n",
    "    cols_to_extract =['LICENSE_NBR','LIC_STATUS','BUSINESS_NAME','CITY','SWC_TYPE','SWC_SQ_FT','SWC_TABLES','SWC_CHAIRS','EXPIRATION_DATE']\n",
    "    for col in headers:\n",
    "        if col in cols_to_extract:\n",
    "            col_idx.append(data_headers.index(col))\n",
    "    return col_idx\n",
    "indexes= extract_cols(data_headers)\n",
    "final_data =[]\n",
    "cont = parse_rows(data)\n",
    "for i in range(len(data)-1):\n",
    "    ll=next(cont)\n",
    "    linelist= [ll[i] for i in indexes]\n",
    "    linelist=linelist[:5]+list(map(int, linelist[5:8]))+linelist[8:] #TRANSFORMING columns to a Python numeric type \n",
    "    final_data.append(linelist) # FINAL_DATA with extracted cols IN 2D LIST\n",
    "    #print('this is a line list',linelist)"
   ]
  },
  {
   "cell_type": "code",
   "execution_count": 3,
   "id": "medium-judges",
   "metadata": {},
   "outputs": [
    {
     "data": {
      "text/plain": [
       "['2010340-DCA',\n",
       " 'Inactive',\n",
       " 'ELLA HOSPITALITY LLC',\n",
       " 'BROOKLYN',\n",
       " 'Unenclosed',\n",
       " 163,\n",
       " 4,\n",
       " 16,\n",
       " '12/15/2020']"
      ]
     },
     "execution_count": 3,
     "metadata": {},
     "output_type": "execute_result"
    }
   ],
   "source": [
    "final_data[0]"
   ]
  },
  {
   "cell_type": "markdown",
   "id": "solar-isolation",
   "metadata": {},
   "source": [
    "## Part 4 - Descriptive Statistics\n",
    "\n",
    "### Analysis on Numeric Data\n",
    "\n",
    "#### Central Tendency\n",
    "\n"
   ]
  },
  {
   "cell_type": "code",
   "execution_count": 4,
   "id": "awful-space",
   "metadata": {},
   "outputs": [
    {
     "name": "stdout",
     "output_type": "stream",
     "text": [
      "-------MEAN-----------\n",
      "avg space in sqft: 258.6580357142857\n",
      "avg table count:  10.322321428571428\n",
      "avg chair count:  23.6625\n",
      "-------MEDIAN-----------\n",
      "median space in sqft:  215.5\n",
      "median table count:  9.0\n",
      "median chair count:  20.0\n",
      "-------MODE-----------\n",
      "mode space in sqft:  126\n",
      "mode table count:  6\n",
      "mode chair count:  12\n"
     ]
    }
   ],
   "source": [
    "import numpy as np\n",
    "data= np.array(final_data)\n",
    "only_numerics= np.array([data[:,5].astype('int64'),data[:,6].astype('int64'),data[:,7].astype('int64')])\n",
    "#1. mean \n",
    "mean_space= data[:,5].astype('int64').mean() # mean size of the sidewalk café space by square footage as permitted by the business’s DCA license\n",
    "mean_table= data[:,6].astype('int64').mean() # mean of maximum number of tables for the sidewalk café space as permitted by the business’s DCA license.)\n",
    "mean_chair= data[:,7].astype('int64').mean() # mean of maximum number of chairs for the sidewalk café space as permitted by the business’s DCA license.)\n",
    "print('-------MEAN-----------')\n",
    "print('avg space in sqft:',mean_space)\n",
    "print('avg table count: ',mean_table)\n",
    "print('avg chair count: ',mean_chair)\n",
    "# 2. median\n",
    "print('-------MEDIAN-----------')\n",
    "median_space_table_chair= np.median(only_numerics, axis=1) \n",
    "print ( 'median space in sqft: ',median_space_table_chair[0])\n",
    "print ( 'median table count: ',median_space_table_chair[1])\n",
    "print ( 'median chair count: ',median_space_table_chair[2])\n",
    "\n",
    "# 3. mode / frequency\n",
    "\n",
    "print('-------MODE-----------')\n",
    "mode_space_table_chair=np.apply_along_axis(lambda x: np.bincount(x).argmax(), axis=1, arr=only_numerics)\n",
    "print ( 'mode space in sqft: ',mode_space_table_chair[0])\n",
    "print ( 'mode table count: ',mode_space_table_chair[1])\n",
    "print ( 'mode chair count: ',mode_space_table_chair[2])\n"
   ]
  },
  {
   "cell_type": "markdown",
   "id": "pretty-warrior",
   "metadata": {},
   "source": [
    "#### Dispersion"
   ]
  },
  {
   "cell_type": "code",
   "execution_count": 5,
   "id": "chicken-birthday",
   "metadata": {},
   "outputs": [
    {
     "name": "stdout",
     "output_type": "stream",
     "text": [
      "-------VARIANCE-----------\n",
      "variance for space in sqft:  26887.36\n",
      "variance for table count:  45.79\n",
      "variance for chair count:  229.91\n",
      "-------STANDARD DEVIATION-----------\n",
      "stdv for space in sqft:  163.97\n",
      "stdv for table count:  6.77\n",
      "stdv for chair count:  15.16\n"
     ]
    }
   ],
   "source": [
    "# variance\n",
    "print('-------VARIANCE-----------')\n",
    "var_space_table_chair = np.var(only_numerics,axis=1) \n",
    "\n",
    "print ( 'variance for space in sqft: ',round(var_space_table_chair[0],2))\n",
    "print ( 'variance for table count: ',round(var_space_table_chair[1],2))\n",
    "print ( 'variance for chair count: ',round(var_space_table_chair[2],2))\n",
    "\n",
    "# standard deviation\n",
    "print('-------STANDARD DEVIATION-----------')\n",
    "std_space_table_chair =np.std(only_numerics,axis=1) \n",
    "print ( 'stdv for space in sqft: ',round(std_space_table_chair[0],2))\n",
    "print ( 'stdv for table count: ',round(std_space_table_chair[1],2))\n",
    "print ( 'stdv for chair count: ',round(std_space_table_chair[2],2))\n"
   ]
  },
  {
   "cell_type": "markdown",
   "id": "mobile-heather",
   "metadata": {},
   "source": [
    "#### Outliers\n"
   ]
  },
  {
   "cell_type": "code",
   "execution_count": 6,
   "id": "published-attraction",
   "metadata": {},
   "outputs": [
    {
     "name": "stdout",
     "output_type": "stream",
     "text": [
      "-------MIN & MAX -----------\n",
      "range for space in sqft:  20 - 1300\n",
      "range for table count:  1 - 50\n",
      "range for chair count:  2 - 135\n"
     ]
    }
   ],
   "source": [
    "# examine range / outliers with min and max\n",
    "print('-------MIN & MAX -----------')\n",
    "min_space_table_chair =np.min(only_numerics,axis=1) \n",
    "max_space_table_chair =np.max(only_numerics,axis=1)\n",
    "print ( 'range for space in sqft: ',min_space_table_chair[0],'-',max_space_table_chair[0])\n",
    "print ( 'range for table count: ',min_space_table_chair[1], '-',max_space_table_chair[1])\n",
    "print ( 'range for chair count: ',min_space_table_chair[2], '-',max_space_table_chair[2])\n"
   ]
  },
  {
   "cell_type": "markdown",
   "id": "seven-pension",
   "metadata": {},
   "source": [
    "#### Other"
   ]
  },
  {
   "cell_type": "code",
   "execution_count": 7,
   "id": "literary-verification",
   "metadata": {},
   "outputs": [
    {
     "data": {
      "text/plain": [
       "array([['1229629-DCA', 'Active', 'ERS ENTERPRISES INC.', 'NEW YORK',\n",
       "        'Enclosed', '880', '22', '46', '05/15/2021'],\n",
       "       ['2010802-DCA', 'Inactive', 'ASTORIA BRICK, LLC', 'ASTORIA',\n",
       "        'Unenclosed', '892', '26', '60', '05/25/2020'],\n",
       "       ['1458496-DCA', 'Inactive', 'LAFAYETTE STREET PARTNERS II, LLC',\n",
       "        'NEW YORK', 'Unenclosed', '962', '23', '84', '09/15/2020'],\n",
       "       ['1470950-DCA', 'Active', 'HAVATEQUILA RESTAURANT PARTNERS, LLC',\n",
       "        'NEW YORK', 'Unenclosed', '1253', '19', '38', '07/31/2020'],\n",
       "       ['1159248-DCA', 'Inactive', '675 HUDSON VAULT, LLC', 'NEW YORK',\n",
       "        'Unenclosed', '1300', '48', '135', '12/15/2020']], dtype='<U45')"
      ]
     },
     "execution_count": 7,
     "metadata": {},
     "output_type": "execute_result"
    }
   ],
   "source": [
    "# Find 5 sidewalk cafés and its info in space max order asc\n",
    "space_arr = data[:,5].astype('int64')\n",
    "ind = np.argpartition(space_arr , -5)[-5:]\n",
    "data[ind]"
   ]
  },
  {
   "cell_type": "markdown",
   "id": "square-acquisition",
   "metadata": {},
   "source": [
    "#### Unique Values and Frequency"
   ]
  },
  {
   "cell_type": "code",
   "execution_count": 8,
   "id": "worse-denmark",
   "metadata": {},
   "outputs": [
    {
     "name": "stdout",
     "output_type": "stream",
     "text": [
      "Active 432\n",
      "Inactive 688\n",
      "total  1120\n"
     ]
    }
   ],
   "source": [
    "status , s_counts= np.unique(np.array(data[:,1]),axis=0,return_counts=True )\n",
    "for i in range(len(s_counts)):\n",
    "    print (status[i], s_counts[i])\n",
    "print('total ', s_counts[0]+s_counts[1])"
   ]
  },
  {
   "cell_type": "code",
   "execution_count": 9,
   "id": "rental-greene",
   "metadata": {},
   "outputs": [
    {
     "name": "stdout",
     "output_type": "stream",
     "text": [
      "Enclosed 105\n",
      "Regular Unenclosed/Small Unenclosed 9\n",
      "Small Unenclosed 77\n",
      "Unenclosed 929\n"
     ]
    }
   ],
   "source": [
    "swc_type ,type_counts = np.unique(np.array(data[:,4]),axis=0,return_counts=True )\n",
    "for i in range(len(type_counts)):\n",
    "    print (swc_type[i], type_counts[i])"
   ]
  },
  {
   "cell_type": "code",
   "execution_count": 10,
   "id": "protected-eight",
   "metadata": {},
   "outputs": [
    {
     "name": "stdout",
     "output_type": "stream",
     "text": [
      "ASTORIA 81\n",
      "BRONX 25\n",
      "BROOKLYN 178\n",
      "CORONA 1\n",
      "EAST ELMHURST 2\n",
      "ELMHURST 1\n",
      "FLUSHING 1\n",
      "FOREST HILLS 10\n",
      "JACKSON HTS 1\n",
      "LONG IS CITY 1\n",
      "LONG ISLAND CITY 13\n",
      "NEW YORK 789\n",
      "New York 2\n",
      "QUEENS 2\n",
      "REGO PARK 2\n",
      "SUNNYSIDE 6\n",
      "WOODSIDE 5\n"
     ]
    }
   ],
   "source": [
    "# Unique cities and counts for each \n",
    "elements, repeats  = np.unique(np.array(data[:,3]), axis=0,return_counts=True )\n",
    "for i in range(len(elements)):\n",
    "    print (elements[i], repeats[i])"
   ]
  },
  {
   "cell_type": "code",
   "execution_count": 11,
   "id": "endangered-galaxy",
   "metadata": {},
   "outputs": [
    {
     "name": "stdout",
     "output_type": "stream",
     "text": [
      "ASTORIA 25\n",
      "BRONX 11\n",
      "BROOKLYN 76\n",
      "CORONA 1\n",
      "EAST ELMHURST 1\n",
      "ELMHURST 1\n",
      "FOREST HILLS 3\n",
      "LONG ISLAND CITY 6\n",
      "NEW YORK 301\n",
      "QUEENS 1\n",
      "SUNNYSIDE 4\n",
      "WOODSIDE 2\n"
     ]
    }
   ],
   "source": [
    "# active sidewalk cafés for each city \n",
    "actives= data[np.where(data[:,1] =='Active')]\n",
    "elements, repeats  = np.unique(np.array(actives[:,3]), axis=0,return_counts=True )\n",
    "for i in range(len(elements)):\n",
    "    print (elements[i], repeats[i])"
   ]
  },
  {
   "cell_type": "code",
   "execution_count": 12,
   "id": "criminal-bahrain",
   "metadata": {},
   "outputs": [
    {
     "data": {
      "text/plain": [
       "(array(['ASTORIA', 'BRONX', 'BROOKLYN', 'CORONA', 'EAST ELMHURST',\n",
       "        'ELMHURST', 'FOREST HILLS', 'LONG ISLAND CITY', 'NEW YORK',\n",
       "        'QUEENS', 'SUNNYSIDE', 'WOODSIDE'], dtype='<U45'),\n",
       " array([ 25,  11,  76,   1,   1,   1,   3,   6, 301,   1,   4,   2]))"
      ]
     },
     "execution_count": 12,
     "metadata": {},
     "output_type": "execute_result"
    }
   ],
   "source": [
    "elements, repeats "
   ]
  },
  {
   "cell_type": "markdown",
   "id": "lyric-soviet",
   "metadata": {},
   "source": [
    "## Part 5 - Visualizations"
   ]
  },
  {
   "cell_type": "markdown",
   "id": "clinical-nylon",
   "metadata": {},
   "source": [
    "### <Graph 1> \n",
    "#### 5 sidewalk cafés in NY state that has the max space size of the sidewalk café space by square footage"
   ]
  },
  {
   "cell_type": "code",
   "execution_count": 13,
   "id": "governmental-designation",
   "metadata": {},
   "outputs": [],
   "source": [
    "\n",
    "space_arr = data[:,5].astype('int64')\n",
    "ind = np.argpartition(space_arr , -5)[-5:]\n",
    "max_five_names= data[ind][:,2]\n",
    "max_five_area= data[ind][:,5]"
   ]
  },
  {
   "cell_type": "code",
   "execution_count": 14,
   "id": "institutional-uniform",
   "metadata": {},
   "outputs": [
    {
     "data": {
      "image/png": "[encoded data removed]",
      "text/plain": [
       "<Figure size 432x288 with 1 Axes>"
      ]
     },
     "metadata": {
      "needs_background": "light"
     },
     "output_type": "display_data"
    }
   ],
   "source": [
    "import matplotlib.pyplot as plt\n",
    "# labels\n",
    "cafe_Name = max_five_names\n",
    "# y values\n",
    "area = max_five_area\n",
    "\n",
    "# the x values (based on number of labels)\n",
    "x = np.arange(len(cafe_Name))\n",
    "plt.bar(x, area, align='center', color=['red', 'blue', 'purple', 'green', 'lavender'])\n",
    "plt.rcParams['figure.facecolor'] = 'white'\n",
    "plt.rcParams['axes.facecolor']='yellow'\n",
    "plt.xticks(x,cafe_Name, fontsize=10, rotation='vertical')\n",
    "plt.ylim(0, 5)\n",
    "plt.ylabel('Area in sqft')\n",
    "plt.xlabel('Café Name')\n",
    "plt.title('5 sidewalk cafés in NY state that has the max space size')\n",
    "plt.show()"
   ]
  },
  {
   "cell_type": "markdown",
   "id": "bacterial-original",
   "metadata": {},
   "source": [
    "### < Graph 1 >\n",
    "#### Number of Active sidewalk cafés for each city"
   ]
  },
  {
   "cell_type": "code",
   "execution_count": 15,
   "id": "hollow-reasoning",
   "metadata": {},
   "outputs": [
    {
     "data": {
      "image/png": "[encoded data removed]",
      "text/plain": [
       "<Figure size 720x720 with 1 Axes>"
      ]
     },
     "metadata": {},
     "output_type": "display_data"
    }
   ],
   "source": [
    "import matplotlib.pyplot as plt\n",
    "\n",
    "plt.style.use('ggplot')\n",
    "plt.figure(figsize=(10,10))\n",
    "plt.pie(repeats, colors=['red','blue','lightblue','purple','brown', 'yellow','green','orange','pink','navy','gold','azure'],labels=elements,autopct='%.2f%%')\n",
    "plt.title('Number of Active sidewalk cafés for each city')\n",
    "plt.tight_layout()\n",
    "plt.show()\n"
   ]
  },
  {
   "cell_type": "markdown",
   "id": "manual-protein",
   "metadata": {},
   "source": [
    "# Homework 03"
   ]
  },
  {
   "cell_type": "markdown",
   "id": "fossil-document",
   "metadata": {},
   "source": [
    "## Part 6 - Conclusion\n",
    "Conclusion answering your questions based on the results in any of the previous parts.\n",
    "\n",
    "I was able to find answers to two previous questions which were finding some sidewalk cafés with maximum space and finding the city in New York stat that has the most active sidewalk cafés. \n",
    "\n",
    "First question was solved through using index lists obtained from np.argpartition. With 5 indexes of rows with maximum 'SWC_SQ_FT', bar graph clearly shows the sidewalk cafés and matching square feet size in ascending order .\n",
    "\n",
    "Second question was answered through follwing steps below.\n",
    "1) filter data to extract Active cafés using `np.where`\n",
    "2) find unqiue values for cities and each counts \n",
    "3) use `matplotlib` to compare and contrast the number of active sidewalk cafés for each city\n",
    "As a result, New York City had more than half, to be precise, 70% number of active sidewalk cafés in NY, follwed by Brooklyn."
   ]
  },
  {
   "cell_type": "code",
   "execution_count": null,
   "id": "studied-bishop",
   "metadata": {},
   "outputs": [],
   "source": []
  },
  {
   "cell_type": "code",
   "execution_count": null,
   "id": "preceding-regression",
   "metadata": {},
   "outputs": [],
   "source": []
  }
 ],
 "metadata": {
  "kernelspec": {
   "display_name": "Python 3",
   "language": "python",
   "name": "python3"
  },
  "language_info": {
   "codemirror_mode": {
    "name": "ipython",
    "version": 3
   },
   "file_extension": ".py",
   "mimetype": "text/x-python",
   "name": "python",
   "nbconvert_exporter": "python",
   "pygments_lexer": "ipython3",
   "version": "3.8.3"
  }
 },
 "nbformat": 4,
 "nbformat_minor": 5
}
